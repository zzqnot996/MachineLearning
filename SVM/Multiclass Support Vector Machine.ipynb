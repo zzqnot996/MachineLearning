{
 "cells": [
  {
   "cell_type": "markdown",
   "metadata": {},
   "source": [
    "\n",
    "# SVM、SVC、SVR三者的区别\n",
    "\n",
    "SVM=Support Vector Machine 是支持向量\n",
    "SVC=Support Vector Classification就是支持向量机用于分类，\n",
    "SVC=Support Vector Regression.就是支持向量机用于回归分析\n",
    "\n",
    "\n",
    "\n"
   ]
  },
  {
   "cell_type": "markdown",
   "metadata": {},
   "source": [
    "## 算法原理\n",
    "\n",
    "多类别支持向量机（Multiclass Support Vector Machine）是一种经典的分类算法，它通过在高维特征空间中找到一个超平面来划分不同的类别。支持向量机算法可以用于二分类问题，但是对于多类别问题，我们可以使用一对多（One-vs-Rest）的方法。\n",
    "\n",
    "具体来说，我们可以将问题转化为多个二分类问题。对于每一个类别，我们将其余类别样本归为一类，然后使用支持向量机算法进行训练和预测。最后，我们将多个二分类结果结合起来，得到最终的多类别分类结果。\n"
   ]
  },
  {
   "cell_type": "markdown",
   "metadata": {},
   "source": [
    "# svr"
   ]
  },
  {
   "cell_type": "markdown",
   "metadata": {},
   "source": [
    "## 算法的优缺点即它的应用场景。\n",
    "\n",
    "(1) 支持向量机回归SVR算法的思想：\n",
    "\n",
    "支持向量机回归（Support Vector Regression，SVR）是一种基于支持向量机（Support Vector Machine，SVM）的回归方法。与传统的回归方法不同，SVR的目标不是直接拟合数据，而是通过在特征空间中找到一个超平面，使得样本点尽可能地位于该超平面附近，并且在容忍范围内允许一定的误差。\n",
    "\n",
    "具体而言，SVR的思想是将回归问题转化为一个优化问题。通过引入一个边界带（margin），将目标值限制在该边界带内，同时尽量使得边界带之外的样本点尽量少。在SVR中，使用核函数将输入特征映射到高维特征空间，然后在该特征空间中寻找最优的超平面。\n",
    "\n",
    "(2) 支持向量机回归SVR算法的特点：\n",
    "\n",
    "- 非线性能力强：SVR通过使用核函数将输入特征映射到高维特征空间，从而可以处理非线性回归问题。\n",
    "\n",
    "- 对异常值鲁棒性强：SVR对异常值的影响相对较小，因为它只关注在边界带内的样本点。\n",
    "\n",
    "- 模型泛化能力强：SVR通过最大化边界带的宽度来寻找最优的超平面，从而具有较好的泛化能力。\n",
    "\n",
    "- 可以处理高维数据：由于使用核函数进行特征映射，SVR可以处理高维数据，避免了维度灾难问题。\n",
    "\n",
    "(3) 支持向量机回归SVR算法的优缺点：\n",
    "\n",
    "优点：\n",
    "\n",
    "- 非线性能力强，可以处理复杂的非线性回归问题。\n",
    "\n",
    "- 对异常值鲁棒性强，不易受到异常值的干扰。\n",
    "\n",
    "- 模型泛化能力强，具有较好的预测能力。\n",
    "\n",
    "- 可以处理高维数据，避免了维度灾难问题。\n",
    "\n",
    "缺点：\n",
    "\n",
    "- 对大规模数据集计算复杂度高，训练时间较长。\n",
    "\n",
    "- 参数调节敏感，需要谨慎选择核函数和正则化参数。\n",
    "\n",
    "- 对于样本噪声较大的情况，模型的预测性能可能会下降。\n",
    "\n",
    "综上所述，支持向量机回归SVR算法通过在特征空间中寻找一个超平面来进行回归预测，具有非线性能力强、对异常值鲁棒性强、模型泛化能力强等特点。然而，它也存在计算复杂度高、参数调节敏感等缺点，需要根据具体问题进行使用和调优。"
   ]
  },
  {
   "cell_type": "markdown",
   "metadata": {},
   "source": [
    "支持向量回归（SVR）的详细介绍以及推导算法  https://blog.csdn.net/weixin_41940690/article/details/106639347\n",
    "\n",
    "SVM 柔性边界的补充和 SVR(支持向量回归)  https://www.cnblogs.com/wuxiangli/p/6831229.html"
   ]
  }
 ],
 "metadata": {
  "kernelspec": {
   "display_name": "base",
   "language": "python",
   "name": "python3"
  },
  "language_info": {
   "codemirror_mode": {
    "name": "ipython",
    "version": 3
   },
   "file_extension": ".py",
   "mimetype": "text/x-python",
   "name": "python",
   "nbconvert_exporter": "python",
   "pygments_lexer": "ipython3",
   "version": "3.8.16"
  }
 },
 "nbformat": 4,
 "nbformat_minor": 2
}
